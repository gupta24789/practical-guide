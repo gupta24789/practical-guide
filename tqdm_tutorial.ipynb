{
 "cells": [
  {
   "cell_type": "code",
   "execution_count": 1,
   "metadata": {},
   "outputs": [],
   "source": [
    "import time\n",
    "import random\n",
    "from tqdm import tqdm"
   ]
  },
  {
   "cell_type": "markdown",
   "metadata": {},
   "source": [
    "## Simple"
   ]
  },
  {
   "cell_type": "code",
   "execution_count": 2,
   "metadata": {},
   "outputs": [
    {
     "name": "stderr",
     "output_type": "stream",
     "text": [
      "Processing : 100%|██████████| 20/20 [00:02<00:00,  9.80it/s]\n"
     ]
    }
   ],
   "source": [
    "data = range(20)\n",
    "for i in tqdm(data, total= len(data), desc= \"Processing : \"):\n",
    "    time.sleep(0.1)"
   ]
  },
  {
   "cell_type": "markdown",
   "metadata": {},
   "source": [
    "## Manual Control"
   ]
  },
  {
   "cell_type": "code",
   "execution_count": 3,
   "metadata": {},
   "outputs": [
    {
     "name": "stderr",
     "output_type": "stream",
     "text": [
      "Processing: 100%|██████████| 20/20 [00:02<00:00,  9.79it/s]\n"
     ]
    }
   ],
   "source": [
    "## Updating progress of bar manually at each step\n",
    "\n",
    "total_iterations = 20\n",
    "## create tqdm object\n",
    "progress_bar = tqdm(total=total_iterations, desc=\"Processing\")\n",
    "\n",
    "for i in range(total_iterations):\n",
    "    time.sleep(0.1)\n",
    "\n",
    "    ## update the progress now\n",
    "    progress_bar.update(1)\n",
    "\n",
    "progress_bar.close()"
   ]
  },
  {
   "cell_type": "markdown",
   "metadata": {},
   "source": [
    "## Nested tqdm\n",
    "\n",
    "- leave = False : disappear progress bar after completion\n",
    "- color : color of progress bar"
   ]
  },
  {
   "cell_type": "code",
   "execution_count": 4,
   "metadata": {},
   "outputs": [
    {
     "name": "stderr",
     "output_type": "stream",
     "text": [
      "Outer Loop: 100%|\u001b[32m██████████\u001b[0m| 5/5 [00:01<00:00,  3.04it/s]\n"
     ]
    }
   ],
   "source": [
    "for i in tqdm(range(5), desc=\"Outer Loop\", colour='green'):\n",
    "    for j in tqdm(range(3), desc=\"Inner Loop\", leave=False):\n",
    "        time.sleep(0.1)"
   ]
  },
  {
   "cell_type": "markdown",
   "metadata": {},
   "source": [
    "## Dynamic Descriptions"
   ]
  },
  {
   "cell_type": "code",
   "execution_count": 5,
   "metadata": {},
   "outputs": [
    {
     "name": "stderr",
     "output_type": "stream",
     "text": [
      "Processing Batch : 19: 100%|██████████| 20/20 [00:02<00:00,  9.63it/s]\n"
     ]
    }
   ],
   "source": [
    "## Example - 1\n",
    "data = range(20)\n",
    "\n",
    "progress_bar = tqdm(data, total= len(data))\n",
    "\n",
    "for i in progress_bar:\n",
    "    time.sleep(0.1)\n",
    "    progress_bar.set_description(f\"Processing Batch : {i}\")"
   ]
  },
  {
   "cell_type": "code",
   "execution_count": 6,
   "metadata": {},
   "outputs": [
    {
     "name": "stderr",
     "output_type": "stream",
     "text": [
      "Step 4: 100%|██████████| 5/5 [00:02<00:00,  1.98it/s]\n"
     ]
    }
   ],
   "source": [
    "progress_bar = tqdm(range(5), desc=\"Starting\")\n",
    "for i in progress_bar:\n",
    "    time.sleep(0.5)\n",
    "    progress_bar.set_description_str(f\"Step {i}\")"
   ]
  },
  {
   "cell_type": "code",
   "execution_count": 7,
   "metadata": {},
   "outputs": [
    {
     "name": "stderr",
     "output_type": "stream",
     "text": [
      "Processing Batch : 19: 100%|██████████| 20/20 [00:04<00:00,  4.85it/s, loss=0.347, accuracy=0.0236]\n"
     ]
    }
   ],
   "source": [
    "## Example - 2\n",
    "data = range(20)\n",
    "\n",
    "progress_bar = tqdm(data, total= len(data))\n",
    "\n",
    "for i in progress_bar:\n",
    "    time.sleep(0.1)\n",
    "    progress_bar.set_description(f\"Processing Batch : {i}\")\n",
    "    time.sleep(0.1)\n",
    "    progress_bar.set_postfix({\"loss\": random.random(), \"accuracy\": random.random()})"
   ]
  },
  {
   "cell_type": "markdown",
   "metadata": {},
   "source": [
    "## Custom Formatting\n",
    "\n",
    "- {l_bar}: Represents the leftmost part of the progress bar.\n",
    "- {bar:20}: Specifies the actual progress bar itself, here we have a width of 20 characters.\n",
    "- {r_bar}: Represents the rightmost part of the progress bar."
   ]
  },
  {
   "cell_type": "code",
   "execution_count": 8,
   "metadata": {},
   "outputs": [
    {
     "name": "stderr",
     "output_type": "stream",
     "text": [
      "Installing Happiness: 100%|████████████████████| 10/10 [00:01<00:00,  9.80it/s]\n"
     ]
    }
   ],
   "source": [
    "for i in tqdm(range(10), bar_format='{l_bar}{bar:20}{r_bar}', desc =\"Installing Happiness\"):\n",
    "    time.sleep(0.1)"
   ]
  },
  {
   "cell_type": "code",
   "execution_count": 9,
   "metadata": {},
   "outputs": [
    {
     "name": "stderr",
     "output_type": "stream",
     "text": [
      "100%|██████████| 5/5 [00:00]\n"
     ]
    }
   ],
   "source": [
    "for i in tqdm(range(5), bar_format=\"{l_bar}{bar}| {n_fmt}/{total_fmt} [{elapsed}]\"):\n",
    "    time.sleep(0.1)"
   ]
  },
  {
   "cell_type": "code",
   "execution_count": 10,
   "metadata": {},
   "outputs": [
    {
     "name": "stderr",
     "output_type": "stream",
     "text": [
      "Installing Happiness: 100%|████| 10/10 [00:01<00:00,  9.80it/s]\n"
     ]
    }
   ],
   "source": [
    "for i in tqdm(range(10), bar_format='{l_bar}{bar:4}{r_bar}', desc =\"Installing Happiness\"):\n",
    "    time.sleep(0.1)"
   ]
  },
  {
   "cell_type": "code",
   "execution_count": 12,
   "metadata": {},
   "outputs": [
    {
     "name": "stderr",
     "output_type": "stream",
     "text": [
      "Installing Happiness: 100%|| 10/10 [00:05<00:00,  1.99it/s]\n"
     ]
    }
   ],
   "source": [
    "for i in tqdm(range(10), bar_format='{l_bar}{r_bar}', desc =\"Installing Happiness\"):\n",
    "    time.sleep(0.5)"
   ]
  },
  {
   "cell_type": "code",
   "execution_count": null,
   "metadata": {},
   "outputs": [],
   "source": []
  }
 ],
 "metadata": {
  "kernelspec": {
   "display_name": "lighting",
   "language": "python",
   "name": "python3"
  },
  "language_info": {
   "codemirror_mode": {
    "name": "ipython",
    "version": 3
   },
   "file_extension": ".py",
   "mimetype": "text/x-python",
   "name": "python",
   "nbconvert_exporter": "python",
   "pygments_lexer": "ipython3",
   "version": "3.8.18"
  }
 },
 "nbformat": 4,
 "nbformat_minor": 2
}
